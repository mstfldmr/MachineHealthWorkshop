{
 "cells": [
  {
   "cell_type": "markdown",
   "metadata": {},
   "source": [
    "# Greengrass ML Workshop\n",
    "With this Jupyter notebook a machine learning model will be trained. This model will then be deployed to a Greengrass Core and used by a Lambda function to classify images. The notebook is based on the cifar10 notebook from the SageMaker examples. It has been modified in the following areas for the Greengrass ML Workshop:\n",
    "\n",
    "* Training uses only 5 epochs as opposed to 50 epochs in the SageMaker example to save time\n",
    "* Restructured a little bit, e.g. load all required libraries in one cell\n",
    "* Trained model will be tested locally therefore no prediction endpoint will be created in SageMaker\n",
    "\n",
    "## Distributed ResNet Training with MXNet and Gluon\n",
    "\n",
    "[ResNet_V2](https://arxiv.org/abs/1512.03385) is an architecture for deep convolution networks. In this example, we train a 34 layer network to perform image classification using the CIFAR-10 dataset. CIFAR-10 consists of 60000 32x32 colour images in 10 classes, with 6000 images per class. There are 50000 training images and 10000 test images. \n",
    "\n",
    "<!--\n",
    "### Setup\n",
    "\n",
    "This example requires the `scikit-image` library. Use jupyter's [conda tab](/tree#conda) to install it.\n",
    "-->\n",
    "\n",
    "### Walk through the notebook step by step"
   ]
  }
 ],
 "metadata": {
  "kernelspec": {
   "display_name": "conda_mxnet_p36",
   "language": "python",
   "name": "conda_mxnet_p36"
  },
  "language_info": {
   "codemirror_mode": {
    "name": "ipython",
    "version": 3
   },
   "file_extension": ".py",
   "mimetype": "text/x-python",
   "name": "python",
   "nbconvert_exporter": "python",
   "pygments_lexer": "ipython3",
   "version": "3.6.5"
  },
  "notice": "Copyright 2017 Amazon.com, Inc. or its affiliates. All Rights Reserved.  Licensed under the Apache License, Version 2.0 (the \"License\"). You may not use this file except in compliance with the License. A copy of the License is located at http://aws.amazon.com/apache2.0/ or in the \"license\" file accompanying this file. This file is distributed on an \"AS IS\" BASIS, WITHOUT WARRANTIES OR CONDITIONS OF ANY KIND, either express or implied. See the License for the specific language governing permissions and limitations under the License."
 },
 "nbformat": 4,
 "nbformat_minor": 2
}
